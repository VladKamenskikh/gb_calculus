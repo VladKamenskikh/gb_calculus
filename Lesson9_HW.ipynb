{
 "cells": [
  {
   "cell_type": "markdown",
   "metadata": {},
   "source": [
    "# Исследовать функцию на условный экстремум."
   ]
  },
  {
   "cell_type": "markdown",
   "metadata": {},
   "source": [
    "## 1. $U=3-8x+6y\\ $, если $\\ x^2+y^2=36$"
   ]
  },
  {
   "cell_type": "markdown",
   "metadata": {},
   "source": [
    "### $L=3-8x+6y+36\\lambda-\\lambda x^2- \\lambda y^2$\n",
    "\n",
    "### $L'_x=-8-2\\lambda x$\n",
    "\n",
    "### $L'_y=6-2\\lambda y$\n",
    "\n",
    "\\begin{cases}\n",
    "   -8-2\\lambda x \\\\\n",
    "   6-2\\lambda y \\\\\n",
    "   x^2+y^2=36\n",
    "\\end{cases}\n",
    "\n",
    "### $x=\\frac{4}{\\lambda}, y=\\frac{3}{\\lambda}$\n",
    "\n",
    "### $\\frac{16}{\\lambda^2}+\\frac{9}{\\lambda^2}=36$\n",
    "\n",
    "### $\\lambda=\\pm\\frac{5}{6}$\n",
    "\n",
    "### $M_1(-\\frac{24}{5};-\\frac{18}{5}), M_2=(\\frac{24}{5};\\frac{18}{5})$\n",
    "\n",
    "### $U(M_1)=3+\\frac{192}{5}-\\frac{108}{5}=19.8 \\ (Максимум)$\n",
    "\n",
    "### $U(M_2)=3-\\frac{192}{5}+\\frac{108}{5}=-13.8 \\ (Минимум)$"
   ]
  },
  {
   "cell_type": "markdown",
   "metadata": {},
   "source": [
    "## 2. $U=2x^2+12xy+32y^2+15 \\ $, если $ \\ x^2+16y^2=64$"
   ]
  },
  {
   "cell_type": "markdown",
   "metadata": {},
   "source": [
    "### $L=2x^2+12xy+32y^2+15+\\lambda x^2 +16\\lambda y^2 -64\\lambda$\n",
    "\n",
    "### $L'_x=4x+12y+2\\lambda x$\n",
    "\n",
    "### $L'_y=12x+64y+32\\lambda y$\n",
    "\n",
    "\\begin{cases}\n",
    "   4x+12y+2\\lambda x \\\\\n",
    "   12x+64y+32\\lambda y \\\\\n",
    "   x^2+16y^2-64=0\n",
    "\\end{cases}\n",
    "\n",
    "### $\\lambda_1=-\\frac{1}{2}, \\lambda_2=-\\frac{7}{2}$\n",
    "\n",
    "### $M_1(-4\\sqrt{2};-\\sqrt{2}), M_2(-4\\sqrt{2};\\sqrt{2}), M_3(4\\sqrt{2};-\\sqrt{2}), M_4(4\\sqrt{2};\\sqrt{2})$\n",
    "\n",
    "### $\\varphi'_x=2x$\n",
    "\n",
    "### $\\varphi'_y=32y$\n",
    "\n",
    "### $L''xx=6+2\\lambda$\n",
    "\n",
    "### $L''xy=12$\n",
    "\n",
    "### $L''yy=64+32\\lambda$\n",
    "\n",
    "### $L''yx=12$\n",
    "\n",
    " \\begin{pmatrix}\n",
    "  0 & 2x & 32y \\\\\n",
    "  2x & 6+2\\lambda & 12 \\\\\n",
    "  32y  & 12  & 64+32\\lambda \n",
    " \\end{pmatrix}\n",
    " \n",
    "### $det(M_1) \\approx 32562.2 \\ > 0 \\ (Максимум)$\n",
    "\n",
    "### $det(M_2) \\approx -6495.4 \\ < 0 \\ (Минимум) $\n",
    "\n",
    "### $det(M_3) \\approx -18080.6 \\ < 0 \\ (Минимум) $\n",
    "\n",
    "### $det(M_4) \\approx -7986.2 \\ < 0 \\ (Минимум) $"
   ]
  },
  {
   "cell_type": "markdown",
   "metadata": {},
   "source": [
    "## 3. Найти производную функции $U=x^2+y^2+z^2$ по направлению вектора $\\vec{c}(-9,8,-12)$ в точке $M(8;-12;9)$."
   ]
  },
  {
   "cell_type": "markdown",
   "metadata": {},
   "source": [
    "### $U'_x=2x$\n",
    "\n",
    "### $U'_y=2y$\n",
    "\n",
    "### $U'_z=2z$\n",
    "\n",
    "### $|c|=\\sqrt{81+64+144}=17$\n",
    "\n",
    "### $cos\\alpha=-\\frac{9}{17}, cos\\beta=\\frac{8}{17}, cos\\lambda=-\\frac{12}{17}$\n",
    "\n",
    "### $U'_\\vec{c}=-16\\frac{9}{17}-24\\frac{8}{17}-18\\frac{12}{17}=-\\frac{552}{17}$"
   ]
  },
  {
   "cell_type": "markdown",
   "metadata": {},
   "source": [
    "## 4. Найти производную функции $U=e^{x^2+y^2+z^2}$ по направлению вектора $\\vec{d}(4,-13,-16)$ в точке $L(-16;4;-13)$."
   ]
  },
  {
   "cell_type": "markdown",
   "metadata": {},
   "source": [
    "### $U'_x=2xe^{x^2+y^2+z^2}$\n",
    "\n",
    "### $U'_y=2ye^{x^2+y^2+z^2}$\n",
    "\n",
    "### $U'_z=2ze^{x^2+y^2+z^2}$\n",
    "\n",
    "### $|d|=\\sqrt{16+169+256}=21$\n",
    "\n",
    "### $cos\\alpha=\\frac{4}{21}, cos\\beta=\\frac{13}{21}, cos\\lambda=-\\frac{16}{21}$\n",
    "\n",
    "### $U'_\\vec{d}=-32e^{441}\\frac{4}{21}-8e^{441}\\frac{13}{21}+26e^{441}\\frac{16}{21}=\\frac{184e^{441}}{21}$"
   ]
  }
 ],
 "metadata": {
  "kernelspec": {
   "display_name": "Python 3",
   "language": "python",
   "name": "python3"
  },
  "language_info": {
   "codemirror_mode": {
    "name": "ipython",
    "version": 3
   },
   "file_extension": ".py",
   "mimetype": "text/x-python",
   "name": "python",
   "nbconvert_exporter": "python",
   "pygments_lexer": "ipython3",
   "version": "3.8.5"
  }
 },
 "nbformat": 4,
 "nbformat_minor": 4
}
