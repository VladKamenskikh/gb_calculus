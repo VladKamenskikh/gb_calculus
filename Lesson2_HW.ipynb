{
 "cells": [
  {
   "cell_type": "markdown",
   "metadata": {},
   "source": [
    "## Прочитать высказывания математической логики, построить их отрицания и установить истинность."
   ]
  },
  {
   "cell_type": "markdown",
   "metadata": {},
   "source": [
    "### Задача 1."
   ]
  },
  {
   "cell_type": "markdown",
   "metadata": {},
   "source": [
    "## $\\forall y\\in {[0;1]} : sgn(y) = 1$"
   ]
  },
  {
   "cell_type": "markdown",
   "metadata": {},
   "source": [
    "Для любого y в интервале от 0 до 1 включительно, сигнум y равен 1.\n",
    "\n",
    "Ложно, потому-что ноль включен в интервал.\n",
    "\n",
    "\n",
    "Отрицание: \n",
    "## $\\exists y\\in {[0;1]} : sgn(y) \\neq 1$\n",
    "Существует y в интервале от 0 до 1 включительно, сигнум которого не равен 1."
   ]
  },
  {
   "cell_type": "markdown",
   "metadata": {},
   "source": [
    "### Задача 2."
   ]
  },
  {
   "cell_type": "markdown",
   "metadata": {},
   "source": [
    "## $\\forall n\\in \\mathbb {N} > 2 : \\exists x,y,z \\in \\mathbb {N} : x^n = y^n + z^n$"
   ]
  },
  {
   "cell_type": "markdown",
   "metadata": {},
   "source": [
    "Для любого n в натуральных числах больше 2, существуют натуральные числа x,y,z, где $x^n = y^n + z^n$\n",
    "\n",
    "Ложно, по теореме Ферма это уравнение не имеет натуральных решений.\n",
    "\n",
    "Отрицание:\n",
    "\n",
    "## $\\exists n\\in \\mathbb {N} > 2 : \\forall x,y,z \\in \\mathbb {N} : x^n \\neq y^n + z^n$\n",
    "\n",
    "Существует n в натуральных числах больше 2, где для любых натуральных чисел x,y,z $x^n \\neq y^n + z^n$"
   ]
  },
  {
   "cell_type": "markdown",
   "metadata": {},
   "source": [
    "### Задача 3."
   ]
  },
  {
   "cell_type": "markdown",
   "metadata": {},
   "source": [
    "## $\\forall x\\in \\mathbb {R}\\exists X \\in \\mathbb {R} : X > x$"
   ]
  },
  {
   "cell_type": "markdown",
   "metadata": {},
   "source": [
    "Для любого вещественного числа x, существует вещественное число X больше x.\n",
    "\n",
    "Истинно.\n",
    "\n",
    "Отрицание:\n",
    "## $\\exists x\\in \\mathbb {R}\\forall X \\in \\mathbb {R} : X \\leq x$\n",
    "\n",
    "Существует вещественное число x, для которого любое вещественное число X меньше или равно x."
   ]
  },
  {
   "cell_type": "markdown",
   "metadata": {},
   "source": [
    "### Задача 4."
   ]
  },
  {
   "cell_type": "markdown",
   "metadata": {},
   "source": [
    "## $\\forall x\\in \\mathbb {C} \\nexists y \\in \\mathbb {C} : x > y\\parallel x < y$"
   ]
  },
  {
   "cell_type": "markdown",
   "metadata": {},
   "source": [
    "Для любого комплексного числа x не существует комплексного числа y, \n",
    "при которых x > y или x < y.\n",
    "\n",
    "Ложно, т.к. комплексные числа не упорядочены и их не имеет смысла сравнивать.\n",
    "\n",
    "Отрицание:\n",
    "\n",
    "## $\\exists x\\in \\mathbb {C} \\forall y \\in \\mathbb {C} : x < y\\parallel x > y$\n",
    "\n",
    "Существует вещественное число x, для которого есть любое комплексное число y, при которых x < y или x > y (?)\n",
    "\n"
   ]
  },
  {
   "cell_type": "markdown",
   "metadata": {},
   "source": [
    "### Задача 5."
   ]
  },
  {
   "cell_type": "markdown",
   "metadata": {},
   "source": [
    "## $\\forall y\\in [0; \\frac{\\pi}{2}]\\exists\\varepsilon > 0:sin (y) < sin(y + \\varepsilon)$"
   ]
  },
  {
   "cell_type": "markdown",
   "metadata": {},
   "source": [
    "Для любого y в интервале от 0 до пи пополам включительно, существует 𝜀 больше 0, при которых 𝑠𝑖𝑛(𝑦) < 𝑠𝑖𝑛(𝑦+𝜀).\n",
    "\n",
    "Ложно.\n",
    "\n",
    "Отрицание:\n",
    "\n",
    "## $\\exists y\\in [0; \\frac{\\pi}{2}]\\forall\\varepsilon > 0:sin (y) \\geq sin(y + \\varepsilon)$\n",
    "\n",
    "Существует y в интервале от 0 до пи пополам включительно, для любого 𝜀 больше 0, при которых $𝑠𝑖𝑛(𝑦) \\geq 𝑠𝑖𝑛(𝑦+𝜀)$"
   ]
  },
  {
   "cell_type": "markdown",
   "metadata": {},
   "source": [
    "### Задача 6."
   ]
  },
  {
   "cell_type": "markdown",
   "metadata": {},
   "source": [
    "## $\\forall y\\in [0; \\pi)\\exists\\varepsilon > 0:cos (y) > cos(y + \\varepsilon)$"
   ]
  },
  {
   "cell_type": "markdown",
   "metadata": {},
   "source": [
    "Для любого y в интервале от 0 включительно до пи не включительно, существует 𝜀 > 0, при которых 𝑐𝑜𝑠(𝑦)>𝑐𝑜𝑠(𝑦+𝜀).\n",
    "\n",
    "Ложно.\n",
    "\n",
    "Отрицание:\n",
    "\n",
    "## $\\exists y\\in [0; \\pi)\\forall\\varepsilon > 0:cos (y) \\leq cos(y + \\varepsilon)$\n",
    "\n",
    "Существует y в интервале от 0 включительно до пи не включительно, для любого 𝜀 больше 0, при которых $cos(𝑦) \\leq cos(𝑦+𝜀)$"
   ]
  },
  {
   "cell_type": "markdown",
   "metadata": {},
   "source": [
    "### Задача 7."
   ]
  },
  {
   "cell_type": "markdown",
   "metadata": {},
   "source": [
    "## $\\exists x : x \\notin \\{\\mathbb {N, Z, Q, R, C} \\}$"
   ]
  },
  {
   "cell_type": "markdown",
   "metadata": {},
   "source": [
    "Существует такой x, который не принадлежит к натуральным, целым, рациональным, вещественным или комплексным числам.\n",
    "\n",
    "Ложно.\n",
    "\n",
    "Отрицание:\n",
    "\n",
    "## $\\forall x : x \\in \\{\\mathbb {N, Z, Q, R, C} \\}$\n",
    "Любое число x принадлежит к натуральным, целым, рациональным, вещественным или косплексным числам.\n"
   ]
  },
  {
   "cell_type": "markdown",
   "metadata": {},
   "source": [
    "## Даны три множества a,b и с. Необходимо выполнить все изученные виды бинарных операций над всеми комбинациями множеств."
   ]
  },
  {
   "cell_type": "code",
   "execution_count": 18,
   "metadata": {},
   "outputs": [
    {
     "data": {
      "text/plain": [
       "({1, 3, 4.5, 6, 'c#', 'c++', 'js', 'python'},\n",
       " {4, 6, 7.8, 8.9, 'c#', 'python', 'scala'},\n",
       " {3, 4.5, 7, 9, 'c++', 'java', 'python'})"
      ]
     },
     "execution_count": 18,
     "metadata": {},
     "output_type": "execute_result"
    }
   ],
   "source": [
    "a = {1, 3, 4.5, 6, 'python', 'c++', 'c#', 'js'}\n",
    "b = {4, 6, 7.8, 8.9, 'c#', 'python', 'scala'}\n",
    "c = {7, 3, 4.5, 9, 'python', 'c++', 'java'}\n",
    "a, b, c"
   ]
  },
  {
   "cell_type": "code",
   "execution_count": 19,
   "metadata": {},
   "outputs": [
    {
     "name": "stdout",
     "output_type": "stream",
     "text": [
      "{1, 3, 4.5, 4, 6, 7.8, 8.9, 7, 9, 'c#', 'java', 'c++', 'js', 'scala', 'python'}\n",
      "{1, 'c++', 3, 4.5, 4, 6, 7.8, 8.9, 'js', 'scala', 'c#', 'python'}\n",
      "{'java', 1, 'c++', 3, 4.5, 6, 7, 9, 'js', 'c#', 'python'}\n",
      "{'java', 'c++', 3, 4, 4.5, 6, 7.8, 8.9, 7, 9, 'scala', 'c#', 'python'}\n"
     ]
    }
   ],
   "source": [
    "print(a | b | c)\n",
    "print(a | b)\n",
    "print(a | c)\n",
    "print(b | c)"
   ]
  },
  {
   "cell_type": "code",
   "execution_count": 20,
   "metadata": {},
   "outputs": [
    {
     "name": "stdout",
     "output_type": "stream",
     "text": [
      "{'python'}\n",
      "{'c#', 'python', 6}\n",
      "{'c++', 3, 4.5, 'python'}\n",
      "{'python'}\n"
     ]
    }
   ],
   "source": [
    "print(a & b & c)\n",
    "print(a & b)\n",
    "print(a & c)\n",
    "print(b & c)"
   ]
  },
  {
   "cell_type": "code",
   "execution_count": 28,
   "metadata": {},
   "outputs": [
    {
     "name": "stdout",
     "output_type": "stream",
     "text": [
      "{1, 'js'}\n",
      "{8.9, 7.8, 4, 'scala'}\n",
      "{9, 'java', 7}\n",
      "{1, 'c++', 3, 4.5, 'js'}\n",
      "{8.9, 'scala', 4, 7.8}\n",
      "{1, 'c#', 'js', 6}\n",
      "{9, 'java', 7}\n",
      "{4, 6, 7.8, 8.9, 'scala', 'c#'}\n",
      "{'c++', 3, 4.5, 7, 9, 'java'}\n"
     ]
    }
   ],
   "source": [
    "print(a - b - c)\n",
    "print(b - a - c)\n",
    "print(c - b - a)\n",
    "print(a - b)\n",
    "print(b - a)\n",
    "print(a - c)\n",
    "print(c - a)\n",
    "print(b - c)\n",
    "print(c - b)"
   ]
  },
  {
   "cell_type": "code",
   "execution_count": 30,
   "metadata": {},
   "outputs": [
    {
     "name": "stdout",
     "output_type": "stream",
     "text": [
      "{1, 4, 7, 7.8, 9, 8.9, 'java', 'js', 'scala', 'python'}\n",
      "{1, 3, 4, 4.5, 7.8, 8.9, 'c++', 'js', 'scala'}\n",
      "{'java', 1, 6, 7, 9, 'js', 'c#'}\n",
      "{3, 4.5, 4, 6, 7, 7.8, 9, 8.9, 'c#', 'java', 'c++', 'scala'}\n"
     ]
    }
   ],
   "source": [
    "print(a ^ b ^ c)\n",
    "print(a ^ b)\n",
    "print(a ^ c)\n",
    "print(b ^ c)"
   ]
  }
 ],
 "metadata": {
  "kernelspec": {
   "display_name": "Python 3",
   "language": "python",
   "name": "python3"
  },
  "language_info": {
   "codemirror_mode": {
    "name": "ipython",
    "version": 3
   },
   "file_extension": ".py",
   "mimetype": "text/x-python",
   "name": "python",
   "nbconvert_exporter": "python",
   "pygments_lexer": "ipython3",
   "version": "3.8.5"
  }
 },
 "nbformat": 4,
 "nbformat_minor": 4
}
