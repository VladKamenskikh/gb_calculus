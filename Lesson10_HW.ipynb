{
 "cells": [
  {
   "cell_type": "markdown",
   "metadata": {},
   "source": [
    "## Тема “Понятие об интеграле”"
   ]
  },
  {
   "cell_type": "markdown",
   "metadata": {},
   "source": [
    "### 1. Найти неопределенный интеграл:\n",
    "\n",
    "### $\\int(2x^2-2x-1+sin(x)-cos(x)+ln(x)+e^x)dx \\ = \\ \\frac{2x^3}{3}-x^2-2x-cos(x)-sin(x)+xln(x)+e^x+C $ "
   ]
  },
  {
   "cell_type": "markdown",
   "metadata": {},
   "source": [
    "### 2. Найти неопределенный интеграл:"
   ]
  },
  {
   "cell_type": "markdown",
   "metadata": {},
   "source": [
    "### $\\int(2x+6xz^2-5x^2y-3ln(z))dx = (2+6z^2)\\int{xdx} -5y\\int{x^2dx} -3ln(z)\\int{1dx} = \\frac{(2+6z^2)x^2}{2}-\\frac{5yx^3}{3}-3ln(z)x+C$"
   ]
  },
  {
   "cell_type": "markdown",
   "metadata": {},
   "source": [
    "### 3. Вычислить определенный интеграл:"
   ]
  },
  {
   "cell_type": "markdown",
   "metadata": {},
   "source": [
    "### $\\int\\limits_0^\\pi{3x^2sin(2x)}dx=3\\int\\limits_0^\\pi{x^2sin(2x)}dx=-\\frac{3x^2cos(2x)}{2}-3\\int{-xcos(2x)dx}=-\\frac{3x^2cos(2x)}{2}+\\frac{3xsin(2x)}{2}-3\\int{\\frac{sin(2x)}{2}dx}$\n",
    "\n",
    "### $u=2x$\n",
    "\n",
    "### $-\\frac{3x^2cos(2x)}{2}+\\frac{3xsin(2x)}{2}-\\frac{3}{4}\\int{sin(u)du}=-\\frac{3x^2cos(2x)}{2}+\\frac{3xsin(2x)}{2}+\\frac{3cos(u)}{4}=-\\frac{3x^2cos(2x)}{2}+\\frac{3xsin(2x)}{2}+\\frac{3cos(2x)}{4}$\n",
    "\n",
    "### $\\left.-\\frac{3x^2cos(2x)}{2}+\\frac{3xsin(2x)}{2}+\\frac{3cos(2x)}{4}\\right|_0^\\pi=-\\frac{3\\pi^2cos(2\\pi)}{2}+\\frac{3\\pi sin(2\\pi)}{2}+\\frac{3cos(2\\pi)}{4}-\\frac{3cos(0)}{4}+C$"
   ]
  },
  {
   "cell_type": "markdown",
   "metadata": {},
   "source": [
    "### 4. Найти неопределенный интеграл:"
   ]
  },
  {
   "cell_type": "markdown",
   "metadata": {},
   "source": [
    "### $\\int{\\frac{1}{\\sqrt{x+1}}dx}$"
   ]
  },
  {
   "cell_type": "markdown",
   "metadata": {},
   "source": [
    "### $u=x+1$\n",
    "\n",
    "### $\\int{\\frac{1}{\\sqrt{u}}du}=2\\sqrt{u}=2\\sqrt{x+1}+C$"
   ]
  }
 ],
 "metadata": {
  "kernelspec": {
   "display_name": "Python 3",
   "language": "python",
   "name": "python3"
  },
  "language_info": {
   "codemirror_mode": {
    "name": "ipython",
    "version": 3
   },
   "file_extension": ".py",
   "mimetype": "text/x-python",
   "name": "python",
   "nbconvert_exporter": "python",
   "pygments_lexer": "ipython3",
   "version": "3.8.5"
  }
 },
 "nbformat": 4,
 "nbformat_minor": 4
}
