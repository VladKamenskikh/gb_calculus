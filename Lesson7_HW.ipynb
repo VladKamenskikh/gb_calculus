{
 "cells": [
  {
   "cell_type": "markdown",
   "metadata": {},
   "source": [
    "### 1. Найти длину 𝑥 и ширину 𝑦 прямоугольника при заданном периметре 𝑃=144 cм, при которых данный прямоугольник имеет наибольшую площадь 𝑆."
   ]
  },
  {
   "cell_type": "markdown",
   "metadata": {},
   "source": [
    "Периметр прямоугольника $P= 2(x+y)\\ $ => $2(x+y) = 144\\ $ => $x+y=72\\ $ => $y=72-x$\n",
    "\n",
    "Площадь прямоугольника $S = xy = x(72-x) = 72x-x^2$\n",
    "\n",
    "$S(x) = 72-x^2$\n",
    "\n",
    "$S'(x) = 72 - 2x$\n",
    "\n",
    "$72-2x = 0$ => $2x = 72$ => $x = 36$ => $y = 72-36 = 36$\n",
    "\n",
    "#### Ответ: Данный прямоугольник имеет наибольшую площадь S при x,y = 36 (квадрат)."
   ]
  },
  {
   "cell_type": "markdown",
   "metadata": {},
   "source": [
    "### 2. Найти экстремумы функций:"
   ]
  },
  {
   "cell_type": "markdown",
   "metadata": {},
   "source": [
    "### $y = |2x|$\n",
    "\n",
    "$f'(x) = \\frac {2x}{|x|}$\n",
    "\n",
    "$\\frac {2x}{|x|} = 0$\n",
    "\n",
    "Экстремумы: $x = 0$"
   ]
  },
  {
   "cell_type": "markdown",
   "metadata": {},
   "source": [
    "### $y = x^3$"
   ]
  },
  {
   "cell_type": "markdown",
   "metadata": {},
   "source": [
    "$f'(x) = 3x^2$\n",
    "\n",
    "$3x^2 = 0$\n",
    "\n",
    "$x^2 = 0$\n",
    "\n",
    "Экстремумы: $x = 0$"
   ]
  },
  {
   "cell_type": "markdown",
   "metadata": {},
   "source": [
    "### $y = e^{3x}$"
   ]
  },
  {
   "cell_type": "markdown",
   "metadata": {},
   "source": [
    "$f'(x) = 3e^3x$\n",
    "\n",
    "$3e^3x = 0$\n",
    "\n",
    "$e^3x = 0$\n",
    "\n",
    "Экстремумов нет."
   ]
  },
  {
   "cell_type": "markdown",
   "metadata": {},
   "source": [
    "### $y = x^3 - 5x$"
   ]
  },
  {
   "cell_type": "markdown",
   "metadata": {},
   "source": [
    "$f'(x) = 3x^2 - 5$\n",
    "\n",
    "$3x^2 - 5 = 0$\n",
    "\n",
    "$3x^2 = 5$\n",
    "\n",
    "$x^2 = \\frac {5}{3}$\n",
    "\n",
    "Экстремумы: $x = \\sqrt{\\frac{5}{3}}$, $x = -\\sqrt{\\frac{5}{3}}$"
   ]
  }
 ],
 "metadata": {
  "kernelspec": {
   "display_name": "Python 3",
   "language": "python",
   "name": "python3"
  },
  "language_info": {
   "codemirror_mode": {
    "name": "ipython",
    "version": 3
   },
   "file_extension": ".py",
   "mimetype": "text/x-python",
   "name": "python",
   "nbconvert_exporter": "python",
   "pygments_lexer": "ipython3",
   "version": "3.8.5"
  }
 },
 "nbformat": 4,
 "nbformat_minor": 4
}
