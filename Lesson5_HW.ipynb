{
 "cells": [
  {
   "cell_type": "markdown",
   "metadata": {},
   "source": [
    "## Тема “Предел функции”"
   ]
  },
  {
   "cell_type": "markdown",
   "metadata": {},
   "source": [
    "### 4. Найти предел:"
   ]
  },
  {
   "cell_type": "markdown",
   "metadata": {},
   "source": [
    "$\\lim\\limits_{x \\to \\infty} (\\frac {x + 3}{x})^{4x + 1} = \\lim\\limits_{x \\to \\infty} (1 + \\frac {3}{x})^{(\\frac {x}{3}) (\\frac {3}{x}) (4x + 1)} = \\lim\\limits_{x \\to \\infty} e^{\\frac {12x + 3}{x}} = e^{\\lim\\limits_{x \\to \\infty} 12 + \\frac {3}{x}} = e^{12}$"
   ]
  },
  {
   "cell_type": "markdown",
   "metadata": {},
   "source": [
    "## Тема “Теоремы о пределах”"
   ]
  },
  {
   "cell_type": "markdown",
   "metadata": {},
   "source": [
    "###  Найти пределы:"
   ]
  },
  {
   "cell_type": "markdown",
   "metadata": {},
   "source": [
    "$\\lim\\limits_{x \\to \\infty} (\\frac {4x+3}{4x-3})^{6x} = \\lim\\limits_{x \\to \\infty} (\\frac {4x+3}{4x-3} + \\frac {6}{4x-3})^{6x} = \\lim\\limits_{x \\to \\infty} (1 + \\frac {6}{4x-3})^{(\\frac {4x-3}{6})(\\frac {6}{4x-3})6x} = e^{\\lim\\limits_{x \\to \\infty} \\frac {36x}{4x-3}} = e^9$"
   ]
  },
  {
   "cell_type": "markdown",
   "metadata": {},
   "source": [
    "$\\lim\\limits_{x \\to \\infty} \\frac {sin(x)+ln(x)}{x} = 0$"
   ]
  },
  {
   "cell_type": "markdown",
   "metadata": {},
   "source": [
    "$\\lim\\limits_{x \\to 0} \\frac {sin(x)+ln(x)}{x} = \\lim\\limits_{x \\to 0} \\frac {1}{x} \\lim\\limits_{x \\to 0} (ln(x)+sin(x)) = \\infty (\\lim\\limits_{x \\to 0} (ln(x)+sin(x))) = \\infty (\\lim\\limits_{x \\to 0} ln(x) + \\lim\\limits_{x \\to 0} sin(x)) = -\\infty$"
   ]
  }
 ],
 "metadata": {
  "kernelspec": {
   "display_name": "Python 3",
   "language": "python",
   "name": "python3"
  },
  "language_info": {
   "codemirror_mode": {
    "name": "ipython",
    "version": 3
   },
   "file_extension": ".py",
   "mimetype": "text/x-python",
   "name": "python",
   "nbconvert_exporter": "python",
   "pygments_lexer": "ipython3",
   "version": "3.8.5"
  }
 },
 "nbformat": 4,
 "nbformat_minor": 4
}
