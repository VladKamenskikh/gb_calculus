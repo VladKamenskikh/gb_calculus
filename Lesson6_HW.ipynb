{
 "cells": [
  {
   "cell_type": "markdown",
   "metadata": {},
   "source": [
    "## Тема “Понятие о производной”"
   ]
  },
  {
   "cell_type": "markdown",
   "metadata": {},
   "source": [
    "### 1. Найти производную выражения:"
   ]
  },
  {
   "cell_type": "markdown",
   "metadata": {},
   "source": [
    "$(sin(x)cos(x))' = sin(x)'cos(x)+sin(x)cos(x)' = cos^2(x)-sin^2(x)$"
   ]
  },
  {
   "cell_type": "markdown",
   "metadata": {},
   "source": [
    "$(ln(2x+1)^3)' = \\frac {3}{2x+1} (2x+1)' = \\frac {6}{2x+1}$"
   ]
  },
  {
   "cell_type": "markdown",
   "metadata": {},
   "source": [
    "$\\big(\\sqrt{sin^2(\\ln{x^3}))}\\big)' = |sin(3\\ln{x})|' = \\frac {sin(3\\ln{x})}{|sin(3\\ln{x})|}(sin(3\\ln{x}))' = \\frac {sin(3\\ln{x})}{|sin(3\\ln{x})|}(cos(3\\ln{x}))(3\\ln{x})' = \\frac {3cos(3\\ln{x})sin(3\\ln{x})}{|sin(3\\ln{x})|}(\\ln{x})' = \\frac {3cos(3\\ln{x})sin(3\\ln{x})}{x|sin(3\\ln{x})|}$"
   ]
  },
  {
   "cell_type": "markdown",
   "metadata": {},
   "source": [
    "$(\\frac {x^4}{\\ln{x}})' = \\frac {(x^4)'\\ln{x} - (\\ln{x})'x^4}{\\ln^2{x}} = \\frac {4x^3\\ln{x}-x^3}{\\ln^2{x}}$"
   ]
  },
  {
   "cell_type": "markdown",
   "metadata": {},
   "source": [
    "### 2. Найти выражение производной функции и ее значение в точке:"
   ]
  },
  {
   "cell_type": "markdown",
   "metadata": {},
   "source": [
    "$f(x) = cos(x^2+3x),\\ x_0 = \\sqrt{\\pi}$"
   ]
  },
  {
   "cell_type": "markdown",
   "metadata": {},
   "source": [
    "$f'(x) = (-sin(x^2+3x))(x^2+3x)' = (-sin(x^2+3x))((x^2)'+3(x)') = -(2x+3)sin(x^2+3x)$\n",
    "\n",
    "$f'(\\sqrt{\\pi}) = -(2\\sqrt{\\pi}+3)sin(\\pi+3\\sqrt{\\pi})$"
   ]
  },
  {
   "cell_type": "markdown",
   "metadata": {},
   "source": [
    "### 3. Найти значение производной функции в точке:"
   ]
  },
  {
   "cell_type": "markdown",
   "metadata": {},
   "source": [
    "$f(x) = \\frac {x^3-x^2-x-1}{1+2x+3x^2-4x^3}, \\ x_0=0$"
   ]
  },
  {
   "cell_type": "markdown",
   "metadata": {},
   "source": [
    "$f'(x) = \\frac {(x^3-x^2-x-1)'(-4x^3+3x^2+2x+1)-(-4x^3+3x^2+2x+1)'(x^3-x^2-x-1)}{(-4x^3+3x^2+2x+1)^2} = \\frac {(3x^2-2x-1)(-4x^3+3x^2+2x+1)-(-12x^2+6x+2)(x^3-x^2-x-1)}{(-4x^3+3x^2+2x+1)^2}$\n",
    "\n",
    "$f'(0) = \\frac {-1 + 2}{1} = 1$"
   ]
  },
  {
   "cell_type": "markdown",
   "metadata": {},
   "source": [
    "### 4. Найти угол наклона касательной к графику функции в точке:"
   ]
  },
  {
   "cell_type": "markdown",
   "metadata": {},
   "source": [
    "$f(x) = \\sqrt{3x}\\ln{x}, \\ x_0=1$"
   ]
  },
  {
   "cell_type": "markdown",
   "metadata": {},
   "source": [
    "$f'(x) = \\frac {\\sqrt{3}}{2\\sqrt{x}}\\ln{x} + \\frac {\\sqrt{3}}{\\sqrt{x}}$\n",
    "\n",
    "$tg(x) = \\sqrt{3}$\n",
    "\n",
    "$x = 60^0$"
   ]
  }
 ],
 "metadata": {
  "kernelspec": {
   "display_name": "Python 3",
   "language": "python",
   "name": "python3"
  },
  "language_info": {
   "codemirror_mode": {
    "name": "ipython",
    "version": 3
   },
   "file_extension": ".py",
   "mimetype": "text/x-python",
   "name": "python",
   "nbconvert_exporter": "python",
   "pygments_lexer": "ipython3",
   "version": "3.8.5"
  }
 },
 "nbformat": 4,
 "nbformat_minor": 4
}
