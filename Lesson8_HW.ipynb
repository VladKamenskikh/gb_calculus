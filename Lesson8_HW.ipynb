{
 "cells": [
  {
   "cell_type": "markdown",
   "metadata": {},
   "source": [
    "## Тема «Производные функций нескольких переменных»"
   ]
  },
  {
   "cell_type": "markdown",
   "metadata": {},
   "source": [
    "### 1. Найти область определения функции.\n",
    "\n",
    "### $z = \\sqrt{1-x^3}+\\ln(y^2-1)$"
   ]
  },
  {
   "cell_type": "markdown",
   "metadata": {},
   "source": [
    "$1-x^3 \\geq 0 => x^3 \\leq 1$\n",
    "\n",
    "$y^2-1 > 0 => y^2 > 1$\n",
    "\n",
    "### $x \\in [-\\infty;1], y \\in (1; + \\infty ]$"
   ]
  },
  {
   "cell_type": "markdown",
   "metadata": {},
   "source": [
    "### 2. Найти производные 1-го порядка функции.\n",
    "\n",
    "### $z=(1+\\frac{\\ln(x)}{\\ln(y)})^3$"
   ]
  },
  {
   "cell_type": "markdown",
   "metadata": {},
   "source": [
    "### $z'_x = 3(1+\\frac{\\ln(x)}{\\ln(y)})^2(1+\\frac{\\ln(x)}{\\ln(y)})'=\\frac{3(1+\\frac{\\ln(x)}{\\ln(y)})^2}{\\ln(y)x}$"
   ]
  },
  {
   "cell_type": "markdown",
   "metadata": {},
   "source": [
    "### $z'_y = 3(1+\\frac{\\ln(x)}{\\ln(y)})^2(1+\\frac{\\ln(x)}{\\ln(y)})'=\\frac{3\\ln(x)(1+\\frac{\\ln(x)}{\\ln(y)})^2}{\\ln^2(y)y}$"
   ]
  },
  {
   "cell_type": "markdown",
   "metadata": {},
   "source": [
    "### 3. Найти полный дифференциал функции в точке (1;1).\n",
    "\n",
    "### $z=\\sqrt{2xy+cos(\\frac{x}{y})}$"
   ]
  },
  {
   "cell_type": "markdown",
   "metadata": {},
   "source": [
    "### $z'(x) = \\frac{1}{2\\sqrt{cos(\\frac{x}{y})+2yx}}(-sin(\\frac{x}{y})(\\frac{x}{y})'+2y)=\\frac{y}{\\sqrt{cos(\\frac{x}{y})+2yx}}-\\frac{sin(\\frac{x}{y})}{2y\\sqrt{cos(\\frac{x}{y})+2yx}}=\\frac{2y^2-sin(\\frac{x}{y})}{2y\\sqrt{2xy+cos(\\frac{x}{y})}}$"
   ]
  },
  {
   "cell_type": "markdown",
   "metadata": {},
   "source": [
    "### $z'(y) = \\frac{1}{2\\sqrt{2xy+cos(\\frac{x}{y})}}(2xy+cos(\\frac{x}{y}))'=\\frac{xsin(\\frac{x}{y})}{2y^2\\sqrt{2xy+cos(\\frac{x}{y})}}+\\frac{x}{\\sqrt{2xy+cos(\\frac{x}{y})}}=\\frac{xsin(\\frac{x}{y})+2xy^2}{2y^2\\sqrt{2xy+cos(\\frac{x}{y})}}$\n",
    "\n",
    "### $dZ=\\frac{2y^2-sin(\\frac{x}{y})}{2y\\sqrt{2xy+cos(\\frac{x}{y})}}dx+\\frac{xsin(\\frac{x}{y})+2xy^2}{2y^2\\sqrt{2xy+cos(\\frac{x}{y})}}dy$\n",
    "\n",
    "### $dZ(1;1)\\approx 0.21dx+0.52dy$"
   ]
  },
  {
   "cell_type": "markdown",
   "metadata": {},
   "source": [
    "### 4. Исследовать на экстремум функцию.\n",
    "\n",
    "### $z=x^2+xy+y^2-6x-9y$"
   ]
  },
  {
   "cell_type": "markdown",
   "metadata": {},
   "source": [
    "### $z'_x=2x+y-6=0$\n",
    "\n",
    "### $z'_y=x+2y-9=0$\n",
    "\n",
    "$y=6-2x$\n",
    "\n",
    "x=1, y=4\n",
    "\n",
    "### $z''_xx = 2$\n",
    "\n",
    "### $z''_yy = 2$\n",
    "\n",
    "### $z''_xy = z''_yx = 1$\n",
    "\n",
    "$\\det{\n",
    " \\begin{bmatrix}\n",
    "  2 & 1 \\\\\n",
    "  1 & 2\n",
    " \\end{bmatrix}\n",
    "} =3 > 0$\n",
    "\n",
    "### Точка минимума (1;4)"
   ]
  }
 ],
 "metadata": {
  "kernelspec": {
   "display_name": "Python 3",
   "language": "python",
   "name": "python3"
  },
  "language_info": {
   "codemirror_mode": {
    "name": "ipython",
    "version": 3
   },
   "file_extension": ".py",
   "mimetype": "text/x-python",
   "name": "python",
   "nbconvert_exporter": "python",
   "pygments_lexer": "ipython3",
   "version": "3.8.5"
  }
 },
 "nbformat": 4,
 "nbformat_minor": 4
}
