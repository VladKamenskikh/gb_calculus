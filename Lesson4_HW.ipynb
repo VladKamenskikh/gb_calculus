{
 "cells": [
  {
   "cell_type": "markdown",
   "metadata": {},
   "source": [
    "## Тема “Предел функции”"
   ]
  },
  {
   "cell_type": "markdown",
   "metadata": {},
   "source": [
    "### 1. Предложить пример функции, не имеющей предела в нуле и в бесконечностях.\n",
    "\n",
    "$f(x) = sgn(x)$"
   ]
  },
  {
   "cell_type": "markdown",
   "metadata": {},
   "source": [
    "### 2. Привести пример функции, не имеющей предела в точке, но определенной в ней.\n",
    "\n",
    "$ f(x) =\n",
    "  \\begin{cases}\n",
    "    x-1,       & \\quad \\text{если } -1 \\leq x < 2\\\\\n",
    "    2-x,       & \\quad \\text{если } 2 \\leq x < 5\n",
    "  \\end{cases}\n",
    "$"
   ]
  },
  {
   "cell_type": "markdown",
   "metadata": {},
   "source": [
    "### 3. Исследовать функцию $f(x) = x^3 - x^2$ по плану:"
   ]
  },
  {
   "cell_type": "code",
   "execution_count": 19,
   "metadata": {},
   "outputs": [
    {
     "data": {
      "image/png": "[encoded data removed]",
      "text/plain": [
       "<Figure size 432x288 with 1 Axes>"
      ]
     },
     "metadata": {
      "needs_background": "light"
     },
     "output_type": "display_data"
    }
   ],
   "source": [
    "import matplotlib.pyplot as plt\n",
    "import numpy as np\n",
    "%matplotlib inline\n",
    "\n",
    "fig, ax = plt.subplots()\n",
    "\n",
    "y = lambda x: x**3 - x**2\n",
    "x = np.linspace(-0.5, 1.2, 100)\n",
    "\n",
    "ax.plot(x, y(x))\n",
    "ax.grid()\n",
    "\n",
    "plt.show()"
   ]
  },
  {
   "cell_type": "markdown",
   "metadata": {},
   "source": [
    "- Область задания и область значений.\n",
    "\n",
    "    Область задания -  $ \\mathbb {R} $\n",
    "    \n",
    "    Область значений -  $ \\mathbb {R} $\n",
    "    \n",
    "    \n",
    "- Нули функции и их кратность.\n",
    "\n",
    "    Нули функции: $x = 0$ (Кратность 2), $x = 1$ (Кратность 1).\n",
    "    \n",
    "    \n",
    "- Отрезки знакопостоянства.\n",
    "    \n",
    "    От $-\\infty$ до 0 \"-\"\n",
    "    \n",
    "    От 0 до 1 \"-\"\n",
    "    \n",
    "    От 1 до $\\infty$ \"+\"\n",
    "    \n",
    "    \n",
    "- Интервалы монотонности.\n",
    "\n",
    "    $f'(x) = 3x^2 - 2x$\n",
    "    \n",
    "    $3x^2 - 2x = 0$\n",
    "    \n",
    "    $D = (-2)^2 - 4*3*0 = 4$\n",
    "    \n",
    "    $x_1 = \\frac {2}{3}, x_2 = 0$\n",
    "    \n",
    "    От $-\\infty$ до 0 возрастает\n",
    "    \n",
    "    От 0 до $\\frac {2}{3}$ убывает\n",
    "    \n",
    "    От $\\frac {2}{3}$ до $\\infty$ возрастает\n",
    "    \n",
    "    \n",
    "- Четность функции.\n",
    "\n",
    "    Функция общего вида\n",
    "    \n",
    "    \n",
    "- Ограниченность.\n",
    "\n",
    "    Функция неограниченна\n",
    "    \n",
    "    \n",
    "- Периодичность.\n",
    "\n",
    "    Функция не периодична\n"
   ]
  },
  {
   "cell_type": "markdown",
   "metadata": {},
   "source": [
    "### 4. Найти предел:"
   ]
  },
  {
   "cell_type": "markdown",
   "metadata": {},
   "source": [
    "$\\lim\\limits_{x \\to 0} \\frac {3x^3 - 2x^2}{4x^2} = \\frac {\\infty}{\\infty} = \\frac{1}{4}\\lim\\limits_{x \\to 0} \\frac {3x^3 - 2x^2}{x^2} = \\frac{1}{4}\\lim\\limits_{x \\to 0} \\frac {x^2(3x-2)}{x^2} = \\frac{1}{4}\\lim\\limits_{x \\to 0} (3x-2) = -0.5$"
   ]
  },
  {
   "cell_type": "markdown",
   "metadata": {},
   "source": [
    "$\\lim\\limits_{x \\to 0} \\frac {\\sqrt{1+x}-1}{\\sqrt[3]{1+x}-1} = \\lim\\limits_{x \\to 0} \\frac {(\\sqrt{1+x}-1)(1+\\sqrt[3]{x+1}+(x+1)^{\\frac{2}{3}})}{(\\sqrt[3]{1+x}-1)(1+\\sqrt[3]{x+1}+(x+1)^{\\frac{2}{3}})} = \\lim\\limits_{x \\to 0} \\frac {(\\sqrt{1+x}-1)(1+\\sqrt[3]{x+1}+(x+1)^{\\frac{2}{3}})}{x} = \\lim\\limits_{x \\to 0} \\frac {\\sqrt{x+1}-1}{x}\\lim\\limits_{x \\to 0} (1+\\sqrt[3]{x+1}+(x+1)^{\\frac {2}{3}}) = 3\\lim\\limits_{x \\to 0} \\frac {\\sqrt{x+1}-1}{x} \\space = \\\\ 3\\lim\\limits_{x \\to 0} \\frac {(\\sqrt{x+1}-1)(\\sqrt{x+1}+1)}{x(\\sqrt{x+1}+1)} = 3\\lim\\limits_{x \\to 0} \\frac {1}{\\sqrt{x+1}+1} = 1.5$"
   ]
  },
  {
   "cell_type": "markdown",
   "metadata": {},
   "source": [
    "## Тема “Теоремы о пределах”"
   ]
  },
  {
   "cell_type": "markdown",
   "metadata": {},
   "source": [
    "###  Найти пределы:"
   ]
  },
  {
   "cell_type": "markdown",
   "metadata": {},
   "source": [
    "$\\lim\\limits_{x \\to 0} \\frac {sin(2x)}{4x} = \\frac {1}{4}\\lim\\limits_{x \\to 0} \\frac {sin(2x)}{x} = \\frac {1}{4}\\lim\\limits_{x \\to 0} 2cos(2x) = 0.5$"
   ]
  },
  {
   "cell_type": "markdown",
   "metadata": {},
   "source": [
    "$\\lim\\limits_{x \\to 0} \\frac {x}{sin(x)} = \\lim\\limits_{x \\to 0} \\frac {1}{cos(x)} = 1$"
   ]
  },
  {
   "cell_type": "markdown",
   "metadata": {},
   "source": [
    "$\\lim\\limits_{x \\to 0} \\frac {x}{arcsin(x)} = \\lim\\limits_{x \\to 0} \\sqrt{1-x^2} = 1$"
   ]
  }
 ],
 "metadata": {
  "kernelspec": {
   "display_name": "Python 3",
   "language": "python",
   "name": "python3"
  },
  "language_info": {
   "codemirror_mode": {
    "name": "ipython",
    "version": 3
   },
   "file_extension": ".py",
   "mimetype": "text/x-python",
   "name": "python",
   "nbconvert_exporter": "python",
   "pygments_lexer": "ipython3",
   "version": "3.8.5"
  }
 },
 "nbformat": 4,
 "nbformat_minor": 4
}
