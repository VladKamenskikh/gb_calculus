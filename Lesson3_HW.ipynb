{
 "cells": [
  {
   "cell_type": "markdown",
   "metadata": {},
   "source": [
    "## Домашнее задание по теме \"Последовательность\""
   ]
  },
  {
   "cell_type": "markdown",
   "metadata": {},
   "source": [
    "### 1. Даны 4 последовательности. Необходимо:\n",
    "- исследовать их на монотонность; \n",
    "- исследовать на ограниченность;\n",
    "- найти пятый по счету член.\n"
   ]
  },
  {
   "cell_type": "markdown",
   "metadata": {},
   "source": [
    "$\\{ a_n \\}_{n=1}^\\infty = 2^n - n$\n",
    "\n",
    "Последовательность монотонна, стремится к бесконечности, 5-й член равен 27"
   ]
  },
  {
   "cell_type": "markdown",
   "metadata": {},
   "source": [
    "$\\{ b_n \\}_{n=2}^\\infty = \\frac {1} {1-n}$\n",
    "\n",
    "Последовательность монотонна, стремится к 0, 5-й член равен -0.2"
   ]
  },
  {
   "cell_type": "markdown",
   "metadata": {},
   "source": [
    "$\\{ c_n \\}_{n=1}^\\infty = -1^n + \\sqrt {2n}$\n",
    "\n",
    "Последовательность монотонна, стремится к бесконечности, 5-й член равен 2.16"
   ]
  },
  {
   "cell_type": "markdown",
   "metadata": {},
   "source": [
    "$\\{ d_n \\}_{n=1}^\\infty = (-1)^{2n} + \\frac {1} {n^2}$\n",
    "\n",
    "Последовательность монотонна, стремится к 1, 5-й член равен 1.03125"
   ]
  },
  {
   "cell_type": "markdown",
   "metadata": {},
   "source": [
    "### 2. Найти 12-й член заданной неявно последовательности."
   ]
  },
  {
   "cell_type": "markdown",
   "metadata": {},
   "source": [
    "$a_1 = 128, a_{n+1} - a_n = 6$\n",
    "\n",
    "$a_n = a_1 + 6(n-1)$\n",
    "\n",
    "$a_{12} = 128 + 6(12-1) = 194$"
   ]
  }
 ],
 "metadata": {
  "kernelspec": {
   "display_name": "Python 3",
   "language": "python",
   "name": "python3"
  },
  "language_info": {
   "codemirror_mode": {
    "name": "ipython",
    "version": 3
   },
   "file_extension": ".py",
   "mimetype": "text/x-python",
   "name": "python",
   "nbconvert_exporter": "python",
   "pygments_lexer": "ipython3",
   "version": "3.8.5"
  }
 },
 "nbformat": 4,
 "nbformat_minor": 4
}
